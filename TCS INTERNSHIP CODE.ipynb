{
 "cells": [
  {
   "cell_type": "code",
   "execution_count": 1,
   "id": "4cd920f8",
   "metadata": {},
   "outputs": [],
   "source": [
    "#import all the relevant libraries\n",
    "import pandas as pd\n",
    "import numpy as np\n",
    "import matplotlib.pyplot as plt\n",
    "import seaborn as sns\n",
    "from sklearn import preprocessing"
   ]
  },
  {
   "cell_type": "code",
   "execution_count": 2,
   "id": "3d072d04",
   "metadata": {},
   "outputs": [],
   "source": [
    "#load the dataset into a variable named data\n",
    "data=pd.read_csv('DRUG BATCH SIDE EFFECTS DATASET 0.1.csv')"
   ]
  },
  {
   "cell_type": "code",
   "execution_count": 3,
   "id": "0b6086af",
   "metadata": {},
   "outputs": [
    {
     "data": {
      "text/html": [
       "<div>\n",
       "<style scoped>\n",
       "    .dataframe tbody tr th:only-of-type {\n",
       "        vertical-align: middle;\n",
       "    }\n",
       "\n",
       "    .dataframe tbody tr th {\n",
       "        vertical-align: top;\n",
       "    }\n",
       "\n",
       "    .dataframe thead th {\n",
       "        text-align: right;\n",
       "    }\n",
       "</style>\n",
       "<table border=\"1\" class=\"dataframe\">\n",
       "  <thead>\n",
       "    <tr style=\"text-align: right;\">\n",
       "      <th></th>\n",
       "      <th>NAME</th>\n",
       "      <th>GENDER</th>\n",
       "      <th>DRUG NAME</th>\n",
       "      <th>AGE</th>\n",
       "      <th>RACE</th>\n",
       "      <th>SIDE EFFECTS</th>\n",
       "    </tr>\n",
       "  </thead>\n",
       "  <tbody>\n",
       "    <tr>\n",
       "      <th>0</th>\n",
       "      <td>Aaban</td>\n",
       "      <td>M</td>\n",
       "      <td>topamax</td>\n",
       "      <td>41.0</td>\n",
       "      <td>White</td>\n",
       "      <td>Mild Side Effects</td>\n",
       "    </tr>\n",
       "    <tr>\n",
       "      <th>1</th>\n",
       "      <td>Aaban</td>\n",
       "      <td>M</td>\n",
       "      <td>zocor</td>\n",
       "      <td>53.0</td>\n",
       "      <td>Hispanic, White</td>\n",
       "      <td>Extremely Severe Side Effects</td>\n",
       "    </tr>\n",
       "    <tr>\n",
       "      <th>2</th>\n",
       "      <td>Aabha</td>\n",
       "      <td>F</td>\n",
       "      <td>tazorac</td>\n",
       "      <td>31.0</td>\n",
       "      <td>White</td>\n",
       "      <td>Mild Side Effects</td>\n",
       "    </tr>\n",
       "    <tr>\n",
       "      <th>3</th>\n",
       "      <td>Aabha</td>\n",
       "      <td>F</td>\n",
       "      <td>voltaren</td>\n",
       "      <td>44.0</td>\n",
       "      <td>White</td>\n",
       "      <td>Severe Side Effects</td>\n",
       "    </tr>\n",
       "    <tr>\n",
       "      <th>4</th>\n",
       "      <td>Aabid</td>\n",
       "      <td>M</td>\n",
       "      <td>tramadol</td>\n",
       "      <td>24.0</td>\n",
       "      <td>White</td>\n",
       "      <td>No Side Effects</td>\n",
       "    </tr>\n",
       "  </tbody>\n",
       "</table>\n",
       "</div>"
      ],
      "text/plain": [
       "    NAME GENDER DRUG NAME   AGE             RACE  \\\n",
       "0  Aaban      M   topamax  41.0            White   \n",
       "1  Aaban      M     zocor  53.0  Hispanic, White   \n",
       "2  Aabha      F   tazorac  31.0            White   \n",
       "3  Aabha      F  voltaren  44.0            White   \n",
       "4  Aabid      M  tramadol  24.0            White   \n",
       "\n",
       "                    SIDE EFFECTS  \n",
       "0              Mild Side Effects  \n",
       "1  Extremely Severe Side Effects  \n",
       "2              Mild Side Effects  \n",
       "3            Severe Side Effects  \n",
       "4                No Side Effects  "
      ]
     },
     "execution_count": 3,
     "metadata": {},
     "output_type": "execute_result"
    }
   ],
   "source": [
    "data.head()"
   ]
  },
  {
   "cell_type": "code",
   "execution_count": 4,
   "id": "1f1cff33",
   "metadata": {},
   "outputs": [
    {
     "data": {
      "text/html": [
       "<div>\n",
       "<style scoped>\n",
       "    .dataframe tbody tr th:only-of-type {\n",
       "        vertical-align: middle;\n",
       "    }\n",
       "\n",
       "    .dataframe tbody tr th {\n",
       "        vertical-align: top;\n",
       "    }\n",
       "\n",
       "    .dataframe thead th {\n",
       "        text-align: right;\n",
       "    }\n",
       "</style>\n",
       "<table border=\"1\" class=\"dataframe\">\n",
       "  <thead>\n",
       "    <tr style=\"text-align: right;\">\n",
       "      <th></th>\n",
       "      <th>NAME</th>\n",
       "      <th>GENDER</th>\n",
       "      <th>DRUG NAME</th>\n",
       "      <th>AGE</th>\n",
       "      <th>RACE</th>\n",
       "      <th>SIDE EFFECTS</th>\n",
       "    </tr>\n",
       "  </thead>\n",
       "  <tbody>\n",
       "    <tr>\n",
       "      <th>399995</th>\n",
       "      <td>TRUE</td>\n",
       "      <td>M</td>\n",
       "      <td>lamisil</td>\n",
       "      <td>50.0</td>\n",
       "      <td>White</td>\n",
       "      <td>Severe Side Effects</td>\n",
       "    </tr>\n",
       "    <tr>\n",
       "      <th>399996</th>\n",
       "      <td>TRUE</td>\n",
       "      <td>M</td>\n",
       "      <td>klaron</td>\n",
       "      <td>55.0</td>\n",
       "      <td>Hispanic, White</td>\n",
       "      <td>No Side Effects</td>\n",
       "    </tr>\n",
       "    <tr>\n",
       "      <th>399997</th>\n",
       "      <td>TRUE</td>\n",
       "      <td>M</td>\n",
       "      <td>celexa</td>\n",
       "      <td>57.0</td>\n",
       "      <td>Other</td>\n",
       "      <td>Severe Side Effects</td>\n",
       "    </tr>\n",
       "    <tr>\n",
       "      <th>399998</th>\n",
       "      <td>TRUE</td>\n",
       "      <td>F</td>\n",
       "      <td>zoloft</td>\n",
       "      <td>59.0</td>\n",
       "      <td>White</td>\n",
       "      <td>No Side Effects</td>\n",
       "    </tr>\n",
       "    <tr>\n",
       "      <th>399999</th>\n",
       "      <td>TRUE</td>\n",
       "      <td>M</td>\n",
       "      <td>prilosec</td>\n",
       "      <td>65.0</td>\n",
       "      <td>White</td>\n",
       "      <td>Mild Side Effects</td>\n",
       "    </tr>\n",
       "  </tbody>\n",
       "</table>\n",
       "</div>"
      ],
      "text/plain": [
       "        NAME GENDER DRUG NAME   AGE             RACE         SIDE EFFECTS\n",
       "399995  TRUE      M   lamisil  50.0            White  Severe Side Effects\n",
       "399996  TRUE      M    klaron  55.0  Hispanic, White      No Side Effects\n",
       "399997  TRUE      M    celexa  57.0            Other  Severe Side Effects\n",
       "399998  TRUE      F    zoloft  59.0            White      No Side Effects\n",
       "399999  TRUE      M  prilosec  65.0            White    Mild Side Effects"
      ]
     },
     "execution_count": 4,
     "metadata": {},
     "output_type": "execute_result"
    }
   ],
   "source": [
    "data.tail()"
   ]
  },
  {
   "cell_type": "code",
   "execution_count": 5,
   "id": "cbeaaa59",
   "metadata": {},
   "outputs": [
    {
     "data": {
      "text/plain": [
       "(400000, 6)"
      ]
     },
     "execution_count": 5,
     "metadata": {},
     "output_type": "execute_result"
    }
   ],
   "source": [
    "data.shape"
   ]
  },
  {
   "cell_type": "code",
   "execution_count": 6,
   "id": "44249da4",
   "metadata": {},
   "outputs": [
    {
     "name": "stdout",
     "output_type": "stream",
     "text": [
      "<class 'pandas.core.frame.DataFrame'>\n",
      "RangeIndex: 400000 entries, 0 to 399999\n",
      "Data columns (total 6 columns):\n",
      " #   Column        Non-Null Count   Dtype  \n",
      "---  ------        --------------   -----  \n",
      " 0   NAME          400000 non-null  object \n",
      " 1   GENDER        400000 non-null  object \n",
      " 2   DRUG NAME     400000 non-null  object \n",
      " 3   AGE           399980 non-null  float64\n",
      " 4   RACE          400000 non-null  object \n",
      " 5   SIDE EFFECTS  400000 non-null  object \n",
      "dtypes: float64(1), object(5)\n",
      "memory usage: 18.3+ MB\n"
     ]
    }
   ],
   "source": [
    "data.info()"
   ]
  },
  {
   "cell_type": "markdown",
   "id": "28553ff3",
   "metadata": {},
   "source": [
    "# Inference"
   ]
  },
  {
   "cell_type": "markdown",
   "id": "995dc61c",
   "metadata": {},
   "source": [
    "The data has 400000 rows and 6 columns.Most of the features are object data type."
   ]
  },
  {
   "cell_type": "markdown",
   "id": "3d4335c6",
   "metadata": {},
   "source": [
    "# EDA (Exploratory data analysis)"
   ]
  },
  {
   "cell_type": "code",
   "execution_count": 7,
   "id": "88d0476e",
   "metadata": {},
   "outputs": [
    {
     "data": {
      "text/plain": [
       "<function matplotlib.pyplot.show(close=None, block=None)>"
      ]
     },
     "execution_count": 7,
     "metadata": {},
     "output_type": "execute_result"
    },
    {
     "data": {
      "image/png": "[encoded data removed]",
      "text/plain": [
       "<Figure size 432x288 with 1 Axes>"
      ]
     },
     "metadata": {
      "needs_background": "light"
     },
     "output_type": "display_data"
    }
   ],
   "source": [
    "#Checking value counts of \"DRUG NAME\"\n",
    "data['DRUG NAME'].value_counts().head(15).plot(kind='bar')\n",
    "plt.show"
   ]
  },
  {
   "cell_type": "markdown",
   "id": "57a3c6e2",
   "metadata": {},
   "source": [
    "# Inference"
   ]
  },
  {
   "cell_type": "markdown",
   "id": "8c449f86",
   "metadata": {},
   "source": [
    "paxil is most used drug"
   ]
  },
  {
   "cell_type": "code",
   "execution_count": 8,
   "id": "2d2289b9",
   "metadata": {},
   "outputs": [
    {
     "data": {
      "text/plain": [
       "F    237751\n",
       "M    162249\n",
       "Name: GENDER, dtype: int64"
      ]
     },
     "execution_count": 8,
     "metadata": {},
     "output_type": "execute_result"
    }
   ],
   "source": [
    "#Checking value counts of \"GENDER\"\n",
    "data[\"GENDER\"].value_counts()"
   ]
  },
  {
   "cell_type": "code",
   "execution_count": 9,
   "id": "be19aaf4",
   "metadata": {},
   "outputs": [
    {
     "data": {
      "text/plain": [
       "(array([0, 1]), [Text(0, 0, 'M'), Text(1, 0, 'F')])"
      ]
     },
     "execution_count": 9,
     "metadata": {},
     "output_type": "execute_result"
    },
    {
     "data": {
      "image/png": "[encoded data removed]",
      "text/plain": [
       "<Figure size 432x432 with 1 Axes>"
      ]
     },
     "metadata": {
      "needs_background": "light"
     },
     "output_type": "display_data"
    }
   ],
   "source": [
    "data[\"GENDER\"].value_counts()\n",
    "plt.figure(figsize=(6,6))\n",
    "sns.countplot(x='GENDER',hue='GENDER',data=data,palette=\"PuBuGn_r\")\n",
    "plt.title(\"GENDER COUNT\",fontsize=18 )\n",
    "plt.xticks(rotation=45)"
   ]
  },
  {
   "cell_type": "markdown",
   "id": "2deb562d",
   "metadata": {},
   "source": [
    "# Inference"
   ]
  },
  {
   "cell_type": "markdown",
   "id": "64cd4a78",
   "metadata": {},
   "source": [
    "from the Gender count we can see that highest counts are Females which are much more than males in this dataset"
   ]
  },
  {
   "cell_type": "code",
   "execution_count": 10,
   "id": "9228e486",
   "metadata": {},
   "outputs": [
    {
     "data": {
      "text/plain": [
       "White              314074\n",
       "Hispanic, White     44072\n",
       "Black               35845\n",
       "Unknown              3046\n",
       "Hispanic, Black      1673\n",
       "Other                1010\n",
       "Asian, Other          168\n",
       "Asian Indian          104\n",
       "Chinese                 8\n",
       "Name: RACE, dtype: int64"
      ]
     },
     "execution_count": 10,
     "metadata": {},
     "output_type": "execute_result"
    }
   ],
   "source": [
    "#Checking value counts of \"RACE\"\n",
    "data[\"RACE\"].value_counts()"
   ]
  },
  {
   "cell_type": "code",
   "execution_count": 11,
   "id": "292c4bdb",
   "metadata": {},
   "outputs": [
    {
     "data": {
      "text/plain": [
       "(array([0, 1, 2, 3, 4, 5, 6, 7, 8]),\n",
       " [Text(0, 0, 'White'),\n",
       "  Text(1, 0, 'Hispanic, White'),\n",
       "  Text(2, 0, 'Unknown'),\n",
       "  Text(3, 0, 'Black'),\n",
       "  Text(4, 0, 'Other'),\n",
       "  Text(5, 0, 'Hispanic, Black'),\n",
       "  Text(6, 0, 'Asian, Other'),\n",
       "  Text(7, 0, 'Asian Indian'),\n",
       "  Text(8, 0, 'Chinese')])"
      ]
     },
     "execution_count": 11,
     "metadata": {},
     "output_type": "execute_result"
    },
    {
     "data": {
      "image/png": "[encoded data removed]",
      "text/plain": [
       "<Figure size 720x432 with 1 Axes>"
      ]
     },
     "metadata": {
      "needs_background": "light"
     },
     "output_type": "display_data"
    }
   ],
   "source": [
    "data[\"RACE\"].value_counts()\n",
    "plt.figure(figsize=(10,6))\n",
    "sns.countplot(x='RACE',hue='RACE',data=data)\n",
    "plt.title(\"RACE COUNT\",fontsize=18 )\n",
    "plt.xticks(rotation=45)"
   ]
  },
  {
   "cell_type": "markdown",
   "id": "3a1abb70",
   "metadata": {},
   "source": [
    "# Inference"
   ]
  },
  {
   "cell_type": "markdown",
   "id": "7bdccf87",
   "metadata": {},
   "source": [
    "According to the value counts of \"RACE\", white categorized peoples are taken the most drugs consuming for their treatments and the chinese are the least."
   ]
  },
  {
   "cell_type": "code",
   "execution_count": 12,
   "id": "dc6c7083",
   "metadata": {},
   "outputs": [
    {
     "data": {
      "text/plain": [
       "array(['Mild Side Effects', 'Extremely Severe Side Effects',\n",
       "       'Severe Side Effects', 'No Side Effects', 'Moderate Side Effects'],\n",
       "      dtype=object)"
      ]
     },
     "execution_count": 12,
     "metadata": {},
     "output_type": "execute_result"
    }
   ],
   "source": [
    "#Checking Unique values of \"SIDE EFFECTS\"\n",
    "data[\"SIDE EFFECTS\"].unique()"
   ]
  },
  {
   "cell_type": "code",
   "execution_count": 13,
   "id": "81d964bc",
   "metadata": {},
   "outputs": [
    {
     "data": {
      "text/plain": [
       "(array([0, 1, 2, 3, 4]),\n",
       " [Text(0, 0, 'Mild Side Effects'),\n",
       "  Text(1, 0, 'Extremely Severe Side Effects'),\n",
       "  Text(2, 0, 'Severe Side Effects'),\n",
       "  Text(3, 0, 'No Side Effects'),\n",
       "  Text(4, 0, 'Moderate Side Effects')])"
      ]
     },
     "execution_count": 13,
     "metadata": {},
     "output_type": "execute_result"
    },
    {
     "data": {
      "image/png": "[encoded data removed]",
      "text/plain": [
       "<Figure size 720x432 with 1 Axes>"
      ]
     },
     "metadata": {
      "needs_background": "light"
     },
     "output_type": "display_data"
    }
   ],
   "source": [
    "data[\"SIDE EFFECTS\"].value_counts()\n",
    "plt.figure(figsize=(10,6))\n",
    "sns.countplot(x='SIDE EFFECTS',hue='SIDE EFFECTS',data=data)\n",
    "plt.title(\"SIDE EFFECTS COUNT\",fontsize=18 )\n",
    "plt.xticks(rotation=45)"
   ]
  },
  {
   "cell_type": "markdown",
   "id": "2edd4b78",
   "metadata": {},
   "source": [
    "# Inference"
   ]
  },
  {
   "cell_type": "markdown",
   "id": "4c19ef8d",
   "metadata": {},
   "source": [
    "According to the \"side effects\" count, Mild Side Effects are top most side effects which found basis of the EDA on this Side effects column"
   ]
  },
  {
   "cell_type": "markdown",
   "id": "c0ab225f",
   "metadata": {},
   "source": [
    "# Pre-processing"
   ]
  },
  {
   "cell_type": "code",
   "execution_count": 14,
   "id": "2bd6e428",
   "metadata": {},
   "outputs": [
    {
     "data": {
      "text/plain": [
       "NAME             0\n",
       "GENDER           0\n",
       "DRUG NAME        0\n",
       "AGE             20\n",
       "RACE             0\n",
       "SIDE EFFECTS     0\n",
       "dtype: int64"
      ]
     },
     "execution_count": 14,
     "metadata": {},
     "output_type": "execute_result"
    }
   ],
   "source": [
    "#Checking the null values in column \"AGE\"\n",
    "data.isna().sum()"
   ]
  },
  {
   "cell_type": "markdown",
   "id": "d8eb9c4a",
   "metadata": {},
   "source": [
    "# Inference"
   ]
  },
  {
   "cell_type": "markdown",
   "id": "4a5e465d",
   "metadata": {},
   "source": [
    "There are missing values in the AGE."
   ]
  },
  {
   "cell_type": "code",
   "execution_count": 15,
   "id": "68e54c09",
   "metadata": {},
   "outputs": [],
   "source": [
    "#filling the missing values in age with respect to the median of Age.\n",
    "data['AGE'] = data['AGE'] .fillna( data['AGE'].median())"
   ]
  },
  {
   "cell_type": "code",
   "execution_count": 16,
   "id": "66a6cad8",
   "metadata": {},
   "outputs": [
    {
     "data": {
      "text/plain": [
       "NAME            0\n",
       "GENDER          0\n",
       "DRUG NAME       0\n",
       "AGE             0\n",
       "RACE            0\n",
       "SIDE EFFECTS    0\n",
       "dtype: int64"
      ]
     },
     "execution_count": 16,
     "metadata": {},
     "output_type": "execute_result"
    }
   ],
   "source": [
    "data.isna().sum()"
   ]
  },
  {
   "cell_type": "code",
   "execution_count": 17,
   "id": "e80bb333",
   "metadata": {},
   "outputs": [
    {
     "data": {
      "text/html": [
       "<div>\n",
       "<style scoped>\n",
       "    .dataframe tbody tr th:only-of-type {\n",
       "        vertical-align: middle;\n",
       "    }\n",
       "\n",
       "    .dataframe tbody tr th {\n",
       "        vertical-align: top;\n",
       "    }\n",
       "\n",
       "    .dataframe thead th {\n",
       "        text-align: right;\n",
       "    }\n",
       "</style>\n",
       "<table border=\"1\" class=\"dataframe\">\n",
       "  <thead>\n",
       "    <tr style=\"text-align: right;\">\n",
       "      <th></th>\n",
       "      <th>GENDER</th>\n",
       "      <th>DRUG NAME</th>\n",
       "      <th>AGE</th>\n",
       "      <th>RACE</th>\n",
       "      <th>SIDE EFFECTS</th>\n",
       "    </tr>\n",
       "  </thead>\n",
       "  <tbody>\n",
       "    <tr>\n",
       "      <th>0</th>\n",
       "      <td>M</td>\n",
       "      <td>topamax</td>\n",
       "      <td>41.0</td>\n",
       "      <td>White</td>\n",
       "      <td>Mild Side Effects</td>\n",
       "    </tr>\n",
       "    <tr>\n",
       "      <th>1</th>\n",
       "      <td>M</td>\n",
       "      <td>zocor</td>\n",
       "      <td>53.0</td>\n",
       "      <td>Hispanic, White</td>\n",
       "      <td>Extremely Severe Side Effects</td>\n",
       "    </tr>\n",
       "    <tr>\n",
       "      <th>2</th>\n",
       "      <td>F</td>\n",
       "      <td>tazorac</td>\n",
       "      <td>31.0</td>\n",
       "      <td>White</td>\n",
       "      <td>Mild Side Effects</td>\n",
       "    </tr>\n",
       "    <tr>\n",
       "      <th>3</th>\n",
       "      <td>F</td>\n",
       "      <td>voltaren</td>\n",
       "      <td>44.0</td>\n",
       "      <td>White</td>\n",
       "      <td>Severe Side Effects</td>\n",
       "    </tr>\n",
       "    <tr>\n",
       "      <th>4</th>\n",
       "      <td>M</td>\n",
       "      <td>tramadol</td>\n",
       "      <td>24.0</td>\n",
       "      <td>White</td>\n",
       "      <td>No Side Effects</td>\n",
       "    </tr>\n",
       "  </tbody>\n",
       "</table>\n",
       "</div>"
      ],
      "text/plain": [
       "  GENDER DRUG NAME   AGE             RACE                   SIDE EFFECTS\n",
       "0      M   topamax  41.0            White              Mild Side Effects\n",
       "1      M     zocor  53.0  Hispanic, White  Extremely Severe Side Effects\n",
       "2      F   tazorac  31.0            White              Mild Side Effects\n",
       "3      F  voltaren  44.0            White            Severe Side Effects\n",
       "4      M  tramadol  24.0            White                No Side Effects"
      ]
     },
     "execution_count": 17,
     "metadata": {},
     "output_type": "execute_result"
    }
   ],
   "source": [
    "#Drop the column \"Name\" which doesn't give any contribution for the modelling\n",
    "data = data.drop(['NAME'], axis = 1)\n",
    "data.head(5)"
   ]
  },
  {
   "cell_type": "markdown",
   "id": "3a916f62",
   "metadata": {},
   "source": [
    "# Find out the outliers in the data"
   ]
  },
  {
   "cell_type": "code",
   "execution_count": 18,
   "id": "43edf9ac",
   "metadata": {},
   "outputs": [
    {
     "name": "stderr",
     "output_type": "stream",
     "text": [
      "C:\\Users\\user\\anaconda3\\lib\\site-packages\\seaborn\\_decorators.py:36: FutureWarning: Pass the following variable as a keyword arg: x. From version 0.12, the only valid positional argument will be `data`, and passing other arguments without an explicit keyword will result in an error or misinterpretation.\n",
      "  warnings.warn(\n"
     ]
    },
    {
     "data": {
      "image/png": "[encoded data removed]",
      "text/plain": [
       "<Figure size 1440x2160 with 1 Axes>"
      ]
     },
     "metadata": {
      "needs_background": "light"
     },
     "output_type": "display_data"
    }
   ],
   "source": [
    "plt.figure(figsize=(20,30))\n",
    "features = [ 'AGE']\n",
    "for i in enumerate(features): \n",
    "    ax = plt.subplot(5, 4, i[0]+1)\n",
    "    sns.boxplot(data[i[1]])\n",
    "    plt.xticks(rotation = 20)"
   ]
  },
  {
   "cell_type": "code",
   "execution_count": 19,
   "id": "d17db4b7",
   "metadata": {},
   "outputs": [
    {
     "name": "stdout",
     "output_type": "stream",
     "text": [
      "value of Q1: 34.0\n",
      "value of Q2: 45.0\n",
      "value of Q3: 57.0\n"
     ]
    }
   ],
   "source": [
    "# Calculate quartile values for 'AGE' using 30,60 and 90 percentile values\n",
    "Q1=np.percentile(data[\"AGE\"],30,interpolation= \"midpoint\")\n",
    "Q2=np.percentile(data[\"AGE\"],60,interpolation= \"midpoint\")\n",
    "Q3=np.percentile(data[\"AGE\"],90,interpolation= \"midpoint\")\n",
    "print(\"value of Q1:\",Q1)\n",
    "print(\"value of Q2:\",Q2)\n",
    "print(\"value of Q3:\",Q3)"
   ]
  },
  {
   "cell_type": "code",
   "execution_count": 20,
   "id": "5a4fc99d",
   "metadata": {},
   "outputs": [
    {
     "data": {
      "text/plain": [
       "41.0"
      ]
     },
     "execution_count": 20,
     "metadata": {},
     "output_type": "execute_result"
    }
   ],
   "source": [
    "data[\"AGE\"].median()"
   ]
  },
  {
   "cell_type": "code",
   "execution_count": 21,
   "id": "520d9e95",
   "metadata": {},
   "outputs": [],
   "source": [
    "IQR= Q3-Q1"
   ]
  },
  {
   "cell_type": "code",
   "execution_count": 22,
   "id": "c6882485",
   "metadata": {},
   "outputs": [
    {
     "name": "stdout",
     "output_type": "stream",
     "text": [
      "Upper limit value is: 91.5\n",
      "Lower limit value is: -0.5\n"
     ]
    }
   ],
   "source": [
    "Upper_lim= Q3+1.5*IQR\n",
    "Lower_lim=Q1-1.5*IQR\n",
    "print(\"Upper limit value is:\",Upper_lim)\n",
    "print(\"Lower limit value is:\",Lower_lim)"
   ]
  },
  {
   "cell_type": "code",
   "execution_count": 23,
   "id": "00b48ee4",
   "metadata": {},
   "outputs": [],
   "source": [
    "outlier=[]\n",
    "for x in data[\"AGE\"]:\n",
    "    if((x>Upper_lim)or(x<Lower_lim)):\n",
    "        outlier.append(x)"
   ]
  },
  {
   "cell_type": "code",
   "execution_count": 24,
   "id": "99dbef3f",
   "metadata": {},
   "outputs": [
    {
     "data": {
      "text/plain": [
       "[300.0,\n",
       " 302.0,\n",
       " 500.0,\n",
       " 400.0,\n",
       " 203.0,\n",
       " 160.0,\n",
       " 400.0,\n",
       " 191.0,\n",
       " 450.0,\n",
       " 390.0,\n",
       " 155.0,\n",
       " 300.0,\n",
       " 390.0,\n",
       " 600.0,\n",
       " 211.0,\n",
       " 600.0,\n",
       " 401.0,\n",
       " 300.0,\n",
       " 390.0]"
      ]
     },
     "execution_count": 24,
     "metadata": {},
     "output_type": "execute_result"
    }
   ],
   "source": [
    "outlier"
   ]
  },
  {
   "cell_type": "code",
   "execution_count": 25,
   "id": "257ab4aa",
   "metadata": {},
   "outputs": [],
   "source": [
    "for i in ['AGE']:\n",
    "    Q1=data[i].quantile(0.25)  \n",
    "    Q3=data[i].quantile(0.75)    \n",
    "    IQR=Q3-Q1\n",
    "    low_limit=Q1-1.5*IQR\n",
    "    up_limit=Q3+1.5*IQR    \n",
    "    for j in data[i]:    \n",
    "        if j > up_limit or j < low_limit:     \n",
    "            data[i] = data[i].replace(j, np.median(data[i]))  "
   ]
  },
  {
   "cell_type": "code",
   "execution_count": 26,
   "id": "6657fe29",
   "metadata": {},
   "outputs": [
    {
     "name": "stderr",
     "output_type": "stream",
     "text": [
      "C:\\Users\\user\\anaconda3\\lib\\site-packages\\seaborn\\_decorators.py:36: FutureWarning: Pass the following variable as a keyword arg: x. From version 0.12, the only valid positional argument will be `data`, and passing other arguments without an explicit keyword will result in an error or misinterpretation.\n",
      "  warnings.warn(\n"
     ]
    },
    {
     "data": {
      "image/png": "[encoded data removed]",
      "text/plain": [
       "<Figure size 1440x2160 with 1 Axes>"
      ]
     },
     "metadata": {
      "needs_background": "light"
     },
     "output_type": "display_data"
    }
   ],
   "source": [
    "plt.figure(figsize=(20,30))\n",
    "features = [ 'AGE']\n",
    "for i in enumerate(features): \n",
    "    ax = plt.subplot(5, 4, i[0]+1)\n",
    "    sns.boxplot(data[i[1]])\n",
    "    plt.xticks(rotation = 20)"
   ]
  },
  {
   "cell_type": "markdown",
   "id": "5d60d9d4",
   "metadata": {},
   "source": [
    "# Inference"
   ]
  },
  {
   "cell_type": "markdown",
   "id": "f7afb5f1",
   "metadata": {},
   "source": [
    "In this case we're taking quartile values for 'AGE' using 30,60 and 90 percentile values Because according to the age logically maximum life expactancy is about 80-90 years in rare case it's upto 102-110.so we conclude to detect the outliers and removed it using median imputation methode for the better accuracy in model."
   ]
  },
  {
   "cell_type": "markdown",
   "id": "75cf5fd4",
   "metadata": {},
   "source": [
    "#  Encoding "
   ]
  },
  {
   "cell_type": "code",
   "execution_count": 27,
   "id": "bfd70adb",
   "metadata": {},
   "outputs": [],
   "source": [
    "from sklearn.preprocessing import LabelEncoder\n",
    "le=LabelEncoder()\n",
    "column=['GENDER','DRUG NAME','RACE','SIDE EFFECTS']\n",
    "for i in column:\n",
    "    data[i] = le.fit_transform(data[i])\n",
    "    "
   ]
  },
  {
   "cell_type": "code",
   "execution_count": 28,
   "id": "93379de9",
   "metadata": {},
   "outputs": [
    {
     "data": {
      "text/html": [
       "<div>\n",
       "<style scoped>\n",
       "    .dataframe tbody tr th:only-of-type {\n",
       "        vertical-align: middle;\n",
       "    }\n",
       "\n",
       "    .dataframe tbody tr th {\n",
       "        vertical-align: top;\n",
       "    }\n",
       "\n",
       "    .dataframe thead th {\n",
       "        text-align: right;\n",
       "    }\n",
       "</style>\n",
       "<table border=\"1\" class=\"dataframe\">\n",
       "  <thead>\n",
       "    <tr style=\"text-align: right;\">\n",
       "      <th></th>\n",
       "      <th>GENDER</th>\n",
       "      <th>DRUG NAME</th>\n",
       "      <th>AGE</th>\n",
       "      <th>RACE</th>\n",
       "      <th>SIDE EFFECTS</th>\n",
       "    </tr>\n",
       "  </thead>\n",
       "  <tbody>\n",
       "    <tr>\n",
       "      <th>0</th>\n",
       "      <td>1</td>\n",
       "      <td>435</td>\n",
       "      <td>41.0</td>\n",
       "      <td>8</td>\n",
       "      <td>1</td>\n",
       "    </tr>\n",
       "    <tr>\n",
       "      <th>1</th>\n",
       "      <td>1</td>\n",
       "      <td>491</td>\n",
       "      <td>53.0</td>\n",
       "      <td>5</td>\n",
       "      <td>0</td>\n",
       "    </tr>\n",
       "    <tr>\n",
       "      <th>2</th>\n",
       "      <td>0</td>\n",
       "      <td>425</td>\n",
       "      <td>31.0</td>\n",
       "      <td>8</td>\n",
       "      <td>1</td>\n",
       "    </tr>\n",
       "    <tr>\n",
       "      <th>3</th>\n",
       "      <td>0</td>\n",
       "      <td>470</td>\n",
       "      <td>44.0</td>\n",
       "      <td>8</td>\n",
       "      <td>4</td>\n",
       "    </tr>\n",
       "    <tr>\n",
       "      <th>4</th>\n",
       "      <td>1</td>\n",
       "      <td>439</td>\n",
       "      <td>24.0</td>\n",
       "      <td>8</td>\n",
       "      <td>3</td>\n",
       "    </tr>\n",
       "  </tbody>\n",
       "</table>\n",
       "</div>"
      ],
      "text/plain": [
       "   GENDER  DRUG NAME   AGE  RACE  SIDE EFFECTS\n",
       "0       1        435  41.0     8             1\n",
       "1       1        491  53.0     5             0\n",
       "2       0        425  31.0     8             1\n",
       "3       0        470  44.0     8             4\n",
       "4       1        439  24.0     8             3"
      ]
     },
     "execution_count": 28,
     "metadata": {},
     "output_type": "execute_result"
    }
   ],
   "source": [
    "data.head()"
   ]
  },
  {
   "cell_type": "markdown",
   "id": "74b87cde",
   "metadata": {},
   "source": [
    "# Feature Selection- Correlation"
   ]
  },
  {
   "cell_type": "code",
   "execution_count": 29,
   "id": "7a00a4f9",
   "metadata": {},
   "outputs": [
    {
     "data": {
      "text/plain": [
       "<AxesSubplot:title={'center':'Heatmap of the  Data befor feature reduction'}>"
      ]
     },
     "execution_count": 29,
     "metadata": {},
     "output_type": "execute_result"
    },
    {
     "data": {
      "image/png": "[encoded data removed]",
      "text/plain": [
       "<Figure size 2160x1440 with 2 Axes>"
      ]
     },
     "metadata": {
      "needs_background": "light"
     },
     "output_type": "display_data"
    }
   ],
   "source": [
    "# Calculating the Correlation matrix using DataFrame.corr()\n",
    "corrmatrix = data.corr()\n",
    "# Creating Heatmap using seaborn & Correlation matrix\n",
    "plt.figure(figsize=(30,20))\n",
    "plt.title('Heatmap of the  Data befor feature reduction', fontsize=20)\n",
    "colormap = sns.color_palette('ch:s=.25,rot=-.25')\n",
    "sns.heatmap(corrmatrix,vmin=-0.2,vmax=0.9, annot=True, linewidth=0.75, cmap=\"YlGnBu\")"
   ]
  },
  {
   "cell_type": "markdown",
   "id": "5c3e2bba",
   "metadata": {},
   "source": [
    "# Inference"
   ]
  },
  {
   "cell_type": "markdown",
   "id": "eea40c72",
   "metadata": {},
   "source": [
    "We can't drop any column.Because the dataset does'nt have any highly correlated features."
   ]
  },
  {
   "cell_type": "markdown",
   "id": "cddaa32c",
   "metadata": {},
   "source": [
    "# Split the data"
   ]
  },
  {
   "cell_type": "code",
   "execution_count": 30,
   "id": "460aae56",
   "metadata": {},
   "outputs": [],
   "source": [
    "X = data.drop(['SIDE EFFECTS'], axis=1)"
   ]
  },
  {
   "cell_type": "code",
   "execution_count": 31,
   "id": "6fa42c9e",
   "metadata": {},
   "outputs": [
    {
     "data": {
      "text/html": [
       "<div>\n",
       "<style scoped>\n",
       "    .dataframe tbody tr th:only-of-type {\n",
       "        vertical-align: middle;\n",
       "    }\n",
       "\n",
       "    .dataframe tbody tr th {\n",
       "        vertical-align: top;\n",
       "    }\n",
       "\n",
       "    .dataframe thead th {\n",
       "        text-align: right;\n",
       "    }\n",
       "</style>\n",
       "<table border=\"1\" class=\"dataframe\">\n",
       "  <thead>\n",
       "    <tr style=\"text-align: right;\">\n",
       "      <th></th>\n",
       "      <th>GENDER</th>\n",
       "      <th>DRUG NAME</th>\n",
       "      <th>AGE</th>\n",
       "      <th>RACE</th>\n",
       "    </tr>\n",
       "  </thead>\n",
       "  <tbody>\n",
       "    <tr>\n",
       "      <th>0</th>\n",
       "      <td>1</td>\n",
       "      <td>435</td>\n",
       "      <td>41.0</td>\n",
       "      <td>8</td>\n",
       "    </tr>\n",
       "    <tr>\n",
       "      <th>1</th>\n",
       "      <td>1</td>\n",
       "      <td>491</td>\n",
       "      <td>53.0</td>\n",
       "      <td>5</td>\n",
       "    </tr>\n",
       "    <tr>\n",
       "      <th>2</th>\n",
       "      <td>0</td>\n",
       "      <td>425</td>\n",
       "      <td>31.0</td>\n",
       "      <td>8</td>\n",
       "    </tr>\n",
       "    <tr>\n",
       "      <th>3</th>\n",
       "      <td>0</td>\n",
       "      <td>470</td>\n",
       "      <td>44.0</td>\n",
       "      <td>8</td>\n",
       "    </tr>\n",
       "    <tr>\n",
       "      <th>4</th>\n",
       "      <td>1</td>\n",
       "      <td>439</td>\n",
       "      <td>24.0</td>\n",
       "      <td>8</td>\n",
       "    </tr>\n",
       "  </tbody>\n",
       "</table>\n",
       "</div>"
      ],
      "text/plain": [
       "   GENDER  DRUG NAME   AGE  RACE\n",
       "0       1        435  41.0     8\n",
       "1       1        491  53.0     5\n",
       "2       0        425  31.0     8\n",
       "3       0        470  44.0     8\n",
       "4       1        439  24.0     8"
      ]
     },
     "execution_count": 31,
     "metadata": {},
     "output_type": "execute_result"
    }
   ],
   "source": [
    "X.head()"
   ]
  },
  {
   "cell_type": "code",
   "execution_count": 32,
   "id": "346b611e",
   "metadata": {},
   "outputs": [],
   "source": [
    "y=data['SIDE EFFECTS']"
   ]
  },
  {
   "cell_type": "code",
   "execution_count": 33,
   "id": "442e0372",
   "metadata": {},
   "outputs": [
    {
     "data": {
      "text/plain": [
       "0    1\n",
       "1    0\n",
       "2    1\n",
       "3    4\n",
       "4    3\n",
       "Name: SIDE EFFECTS, dtype: int32"
      ]
     },
     "execution_count": 33,
     "metadata": {},
     "output_type": "execute_result"
    }
   ],
   "source": [
    "y.head()"
   ]
  },
  {
   "cell_type": "markdown",
   "id": "7cd0b64d",
   "metadata": {},
   "source": [
    "# Training the models"
   ]
  },
  {
   "cell_type": "code",
   "execution_count": 34,
   "id": "a188df24",
   "metadata": {},
   "outputs": [],
   "source": [
    "from sklearn.model_selection import train_test_split\n",
    "from sklearn.model_selection import cross_val_score\n",
    "from sklearn.metrics import mean_squared_error, r2_score\n",
    "from sklearn.preprocessing import MinMaxScaler\n",
    "from sklearn.metrics import confusion_matrix\n",
    "from sklearn.metrics import classification_report\n",
    "\n",
    "from sklearn.linear_model import LinearRegression\n",
    "from sklearn.tree import DecisionTreeRegressor\n",
    "from sklearn.ensemble import RandomForestClassifier"
   ]
  },
  {
   "cell_type": "code",
   "execution_count": 35,
   "id": "7fb9ceda",
   "metadata": {},
   "outputs": [],
   "source": [
    "# Splitting the Dataframe\n",
    "X_train, X_test, y_train, y_test = train_test_split(X, y, test_size = 0.35, random_state=42)"
   ]
  },
  {
   "cell_type": "code",
   "execution_count": 36,
   "id": "d63e57f9",
   "metadata": {},
   "outputs": [],
   "source": [
    "import warnings\n",
    "warnings.filterwarnings('ignore')"
   ]
  },
  {
   "cell_type": "markdown",
   "id": "855fee18",
   "metadata": {},
   "source": [
    "# Logistic Regression Classifier"
   ]
  },
  {
   "cell_type": "code",
   "execution_count": 37,
   "id": "ba450efc",
   "metadata": {},
   "outputs": [
    {
     "name": "stdout",
     "output_type": "stream",
     "text": [
      "              precision    recall  f1-score   support\n",
      "\n",
      "           0       0.00      0.00      0.00      7932\n",
      "           1       0.34      0.96      0.50     46771\n",
      "           2       0.00      0.00      0.00     26209\n",
      "           3       0.33      0.04      0.08     40464\n",
      "           4       0.03      0.00      0.00     18624\n",
      "\n",
      "    accuracy                           0.33    140000\n",
      "   macro avg       0.14      0.20      0.11    140000\n",
      "weighted avg       0.21      0.33      0.19    140000\n",
      "\n",
      "[[    0  7890    15    27     0]\n",
      " [    0 44897    13  1830    31]\n",
      " [    0 24889     0   985   335]\n",
      " [    0 38376     0  1725   363]\n",
      " [    0 17887     0   717    20]]\n",
      "accuracy is 0.3331571428571429\n"
     ]
    }
   ],
   "source": [
    "# LogisticRegression\n",
    "from sklearn.linear_model import LogisticRegression\n",
    "classifier = LogisticRegression()\n",
    "classifier.fit(X_train, y_train)\n",
    "\n",
    "y_pred = classifier.predict(X_test)\n",
    "\n",
    "#Summary of the predictions made by the classifier\n",
    "print(classification_report(y_test, y_pred))\n",
    "print(confusion_matrix(y_test, y_pred))\n",
    "# Accuracy score\n",
    "from sklearn.metrics import accuracy_score\n",
    "print('accuracy is',accuracy_score(y_pred,y_test))"
   ]
  },
  {
   "cell_type": "markdown",
   "id": "d3fba1b7",
   "metadata": {},
   "source": [
    "# K-Nearest Neighbours Classifier"
   ]
  },
  {
   "cell_type": "code",
   "execution_count": 38,
   "id": "d6d96fb9",
   "metadata": {},
   "outputs": [
    {
     "name": "stdout",
     "output_type": "stream",
     "text": [
      "              precision    recall  f1-score   support\n",
      "\n",
      "           0       0.94      0.98      0.96      7932\n",
      "           1       0.98      0.98      0.98     46771\n",
      "           2       0.97      0.97      0.97     26209\n",
      "           3       0.99      0.98      0.98     40464\n",
      "           4       0.99      0.98      0.98     18624\n",
      "\n",
      "    accuracy                           0.98    140000\n",
      "   macro avg       0.97      0.98      0.98    140000\n",
      "weighted avg       0.98      0.98      0.98    140000\n",
      "\n",
      "[[ 7775    61    21    53    22]\n",
      " [  381 45963   158   196    73]\n",
      " [   37   420 25537   122    93]\n",
      " [   83   295   457 39580    49]\n",
      " [   39   146    82    89 18268]]\n",
      "accuracy is 0.97945\n"
     ]
    }
   ],
   "source": [
    "# K-Nearest Neighbours\n",
    "from sklearn.neighbors import KNeighborsClassifier\n",
    "\n",
    "classifier = KNeighborsClassifier(n_neighbors=8)\n",
    "classifier.fit(X_train, y_train)\n",
    "\n",
    "y_pred = classifier.predict(X_test)\n",
    "\n",
    "# Summary of the predictions made by the classifier\n",
    "print(classification_report(y_test, y_pred))\n",
    "print(confusion_matrix(y_test, y_pred))\n",
    "# Accuracy score\n",
    "from sklearn.metrics import accuracy_score\n",
    "print('accuracy is',accuracy_score(y_pred,y_test))"
   ]
  },
  {
   "cell_type": "markdown",
   "id": "d3961a68",
   "metadata": {},
   "source": [
    "# Random Forest Classifier"
   ]
  },
  {
   "cell_type": "code",
   "execution_count": 39,
   "id": "2d90083e",
   "metadata": {},
   "outputs": [],
   "source": [
    "# Importing RandomForestClassifier sklearn.ensemble as RFC\n",
    "from sklearn.ensemble import RandomForestClassifier as RFC\n",
    "RModel=RFC(n_estimators=100, random_state=42)\n",
    "# Training the model\n",
    "RModel.fit(X_train,y_train)\n",
    "y_Pred=RModel.predict(X_test)"
   ]
  },
  {
   "cell_type": "code",
   "execution_count": 40,
   "id": "075ede5e",
   "metadata": {},
   "outputs": [
    {
     "name": "stdout",
     "output_type": "stream",
     "text": [
      "              precision    recall  f1-score   support\n",
      "\n",
      "           0       0.96      0.97      0.97      7932\n",
      "           1       0.99      0.99      0.99     46771\n",
      "           2       0.99      0.97      0.98     26209\n",
      "           3       0.98      0.99      0.99     40464\n",
      "           4       0.99      0.99      0.99     18624\n",
      "\n",
      "    accuracy                           0.99    140000\n",
      "   macro avg       0.98      0.98      0.98    140000\n",
      "weighted avg       0.99      0.99      0.99    140000\n",
      "\n",
      "[[ 7694   163    10    40    25]\n",
      " [  246 46180   114   170    61]\n",
      " [   19   307 25447   371    65]\n",
      " [   28   137    50 40228    21]\n",
      " [   22    55    35    62 18450]]\n",
      "accuracy is 0.9857071428571429\n"
     ]
    }
   ],
   "source": [
    "# Summary of the predictions made by the classifier\n",
    "print(classification_report(y_test, y_Pred))\n",
    "print(confusion_matrix(y_test, y_Pred))\n",
    "# Accuracy score\n",
    "from sklearn.metrics import accuracy_score\n",
    "print('accuracy is',accuracy_score(y_Pred,y_test))"
   ]
  },
  {
   "cell_type": "markdown",
   "id": "80765c6a",
   "metadata": {},
   "source": [
    "# Decision Tree Classifier"
   ]
  },
  {
   "cell_type": "code",
   "execution_count": 41,
   "id": "7f9addd2",
   "metadata": {},
   "outputs": [
    {
     "name": "stdout",
     "output_type": "stream",
     "text": [
      "              precision    recall  f1-score   support\n",
      "\n",
      "           0       0.95      0.99      0.97      7932\n",
      "           1       0.99      0.99      0.99     46771\n",
      "           2       0.99      0.97      0.98     26209\n",
      "           3       0.99      0.99      0.99     40464\n",
      "           4       0.99      0.99      0.99     18624\n",
      "\n",
      "    accuracy                           0.99    140000\n",
      "   macro avg       0.98      0.99      0.98    140000\n",
      "weighted avg       0.99      0.99      0.99    140000\n",
      "\n",
      "[[ 7869    10     8    29    16]\n",
      " [  371 46104   100   138    58]\n",
      " [   19   310 25466   359    55]\n",
      " [   22   135    40 40255    12]\n",
      " [   22    46    39    63 18454]]\n",
      "accuracy is 0.9867714285714285\n"
     ]
    }
   ],
   "source": [
    "# Decision Tree's\n",
    "from sklearn.tree import DecisionTreeClassifier\n",
    "\n",
    "classifier = DecisionTreeClassifier()\n",
    "\n",
    "classifier.fit(X_train, y_train)\n",
    "\n",
    "y_pred = classifier.predict(X_test)\n",
    "\n",
    "# Summary of the predictions made by the classifier\n",
    "print(classification_report(y_test, y_pred))\n",
    "print(confusion_matrix(y_test, y_pred))\n",
    "# Accuracy score\n",
    "from sklearn.metrics import accuracy_score\n",
    "print('accuracy is',accuracy_score(y_pred,y_test))"
   ]
  },
  {
   "cell_type": "markdown",
   "id": "61452cdc",
   "metadata": {},
   "source": [
    "# Summary:"
   ]
  },
  {
   "cell_type": "markdown",
   "id": "65ba6682",
   "metadata": {},
   "source": [
    "In this project, we Build the classifier and fit the data  in to the model.\n",
    "\n",
    "After implementing the logistic regression, K – Nearest Neighbour (KNN) , Random forest and decision tree classifiers,The Decision Tree classifier came outwith the best accuracy of prediction (Accuracy is 0.98677) .So we can use Decision Tree classifier for best predictions.\n",
    "\n",
    "Thank you :)\n",
    "\n",
    "submitted by Sayana C"
   ]
  },
  {
   "cell_type": "code",
   "execution_count": null,
   "id": "6250cfdf",
   "metadata": {},
   "outputs": [],
   "source": []
  }
 ],
 "metadata": {
  "kernelspec": {
   "display_name": "Python 3 (ipykernel)",
   "language": "python",
   "name": "python3"
  },
  "language_info": {
   "codemirror_mode": {
    "name": "ipython",
    "version": 3
   },
   "file_extension": ".py",
   "mimetype": "text/x-python",
   "name": "python",
   "nbconvert_exporter": "python",
   "pygments_lexer": "ipython3",
   "version": "3.9.12"
  }
 },
 "nbformat": 4,
 "nbformat_minor": 5
}
